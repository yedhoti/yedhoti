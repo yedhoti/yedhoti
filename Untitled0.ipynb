{
  "nbformat": 4,
  "nbformat_minor": 0,
  "metadata": {
    "colab": {
      "provenance": []
    },
    "kernelspec": {
      "name": "python3",
      "display_name": "Python 3"
    },
    "language_info": {
      "name": "python"
    }
  },
  "cells": [
    {
      "cell_type": "code",
      "source": [
        "# Importing required libraries\n",
        "from sklearn.ensemble import BaggingClassifier\n",
        "from sklearn.tree import DecisionTreeClassifier\n",
        "from sklearn.model_selection import train_test_split\n",
        "from sklearn.datasets import load_iris\n",
        "from sklearn.metrics import accuracy_score\n",
        "\n",
        "# Loading dataset (Iris dataset for example purposes)\n",
        "data = load_iris()\n",
        "X = data.data\n",
        "y = data.target\n",
        "\n",
        "# Splitting the data into training and testing sets\n",
        "# Increased test_size to 0.5 to allocate more data for testing\n",
        "X_train, X_test, y_train, y_test = train_test_split(X, y, test_size=0.5, random_state=42)\n",
        "\n",
        "# Initializing the base model (Decision Tree Classifier) with limited depth\n",
        "base_model = DecisionTreeClassifier(max_depth=2, random_state=42)\n",
        "\n",
        "# Initializing the BaggingClassifier with DecisionTree as the base estimator\n",
        "# Reduced n_estimators to 50 to decrease ensemble complexity\n",
        "bagging_model = BaggingClassifier(\n",
        "    estimator=base_model,\n",
        "    n_estimators=50,\n",
        "    random_state=42\n",
        ")\n",
        "\n",
        "# Training the Bagging model\n",
        "bagging_model.fit(X_train, y_train)\n",
        "\n",
        "# Making predictions on the test set\n",
        "y_pred = bagging_model.predict(X_test)\n",
        "\n",
        "# Calculating accuracy\n",
        "accuracy = accuracy_score(y_test, y_pred)\n",
        "print(f'Accuracy of Bagging with Decision Tree (max_depth=2, n_estimators=50): {accuracy:.4f}')\n"
      ],
      "metadata": {
        "colab": {
          "base_uri": "https://localhost:8080/"
        },
        "id": "6_Cbf3ogRUIH",
        "outputId": "276f17c8-2ad0-424f-9eb1-900889d05632"
      },
      "execution_count": null,
      "outputs": [
        {
          "output_type": "stream",
          "name": "stdout",
          "text": [
            "Accuracy of Bagging with Decision Tree (max_depth=2, n_estimators=50): 0.9733\n"
          ]
        }
      ]
    }
  ]
}