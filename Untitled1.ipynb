{
  "nbformat": 4,
  "nbformat_minor": 0,
  "metadata": {
    "colab": {
      "provenance": []
    },
    "kernelspec": {
      "name": "python3",
      "display_name": "Python 3"
    },
    "language_info": {
      "name": "python"
    }
  },
  "cells": [
    {
      "cell_type": "code",
      "execution_count": 5,
      "metadata": {
        "colab": {
          "base_uri": "https://localhost:8080/"
        },
        "id": "qf6wq-yC4Whj",
        "outputId": "77489ac7-fcb6-4465-aa81-e6d7fba45631"
      },
      "outputs": [
        {
          "output_type": "stream",
          "name": "stdout",
          "text": [
            "Area Type (e.g., Super build-up Area): plot  Area\n",
            "Availability (e.g., Ready to Move): Ready To Move\n",
            "Location (e.g., Electronic city Phase II): Chikka Tirupathi\n",
            "Size (e.g., 2BHK): 4 Bedroom\n",
            "Society: Theanmp\n",
            "Total Square Feet : 2600\n",
            "Number of Bathrooms : 5\n",
            "Number of Balconies : 3\n",
            "\n",
            "Predicted Price:  130.82\n"
          ]
        }
      ],
      "source": [
        "#!/usr/bin/env python\n",
        "# coding: utf-8\n",
        "\n",
        "# In[1]:\n",
        "\n",
        "\n",
        "import pandas as pd\n",
        "from sklearn.model_selection import train_test_split\n",
        "from sklearn.ensemble import RandomForestRegressor\n",
        "from sklearn.preprocessing import OneHotEncoder\n",
        "from sklearn.compose import ColumnTransformer\n",
        "from sklearn.pipeline import Pipeline\n",
        "\n",
        "# Load and prepare the data\n",
        "data = pd.read_csv('House Data.csv')\n",
        "\n",
        "# Convert numeric columns to float, replacing non-numeric values with NaN\n",
        "numeric_columns = ['total_sqft', 'bath', 'balcony', 'price']\n",
        "for col in numeric_columns:\n",
        "    data[col] = pd.to_numeric(data[col], errors='coerce')\n",
        "\n",
        "# Remove rows with NaN values\n",
        "data = data.dropna()\n",
        "\n",
        "# Separate features and target\n",
        "X = data.drop('price', axis=1)\n",
        "y = data['price']\n",
        "\n",
        "# Split the data\n",
        "X_train, X_test, y_train, y_test = train_test_split(X, y, test_size=0.2, random_state=42)\n",
        "\n",
        "# Define numeric and categorical columns\n",
        "numeric_features = ['total_sqft', 'bath', 'balcony']\n",
        "categorical_features = ['area_type', 'availability', 'location', 'size', 'society']\n",
        "\n",
        "# Create preprocessor\n",
        "preprocessor = ColumnTransformer(\n",
        "    transformers=[\n",
        "        ('num', 'passthrough', numeric_features),\n",
        "        ('cat', OneHotEncoder(handle_unknown='ignore'), categorical_features)\n",
        "    ])\n",
        "\n",
        "# Create and train the model\n",
        "model = Pipeline([\n",
        "    ('preprocessor', preprocessor),\n",
        "    ('regressor', RandomForestRegressor(n_estimators=100, random_state=42))\n",
        "])\n",
        "\n",
        "# Corrected: model.fit, not model,fit\n",
        "model.fit(X_train, y_train)\n",
        "\n",
        "# Function to get user input\n",
        "def get_user_input():\n",
        "    return pd.DataFrame({\n",
        "        'area_type': [input(\"Area Type (e.g., Super build-up Area): \")],\n",
        "        'availability': [input(\"Availability (e.g., Ready to Move): \")],\n",
        "        'location': [input(\"Location (e.g., Electronic city Phase II): \")],\n",
        "        'size': [input(\"Size (e.g., 2BHK): \")],\n",
        "        'society': [input(\"Society: \")],\n",
        "        'total_sqft': [float(input(\"Total Square Feet : \"))],\n",
        "        'bath': [float(input(\"Number of Bathrooms : \"))],\n",
        "        'balcony': [float(input(\"Number of Balconies : \"))]\n",
        "    })\n",
        "\n",
        "# Predict price for a new house\n",
        "new_house = get_user_input()\n",
        "\n",
        "# Ensure new input data goes through the preprocessor before making predictions\n",
        "new_house_preprocessed = model.named_steps['preprocessor'].transform(new_house)\n",
        "\n",
        "# Make the prediction\n",
        "predicted_price = model.named_steps['regressor'].predict(new_house_preprocessed)\n",
        "print(f\"\\nPredicted Price: {predicted_price[0]: .2f}\")\n",
        "\n",
        "\n",
        "# In[ ]:"
      ]
    }
  ]
}